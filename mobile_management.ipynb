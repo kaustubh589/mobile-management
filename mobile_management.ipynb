{
  "nbformat": 4,
  "nbformat_minor": 0,
  "metadata": {
    "colab": {
      "name": "mobile management.ipynb",
      "provenance": [],
      "collapsed_sections": []
    },
    "kernelspec": {
      "name": "python3",
      "display_name": "Python 3"
    },
    "language_info": {
      "name": "python"
    }
  },
  "cells": [
    {
      "cell_type": "code",
      "metadata": {
        "id": "U_Ry6QSeolsn"
      },
      "source": [
        "products = {5112374 : {\"Mobile Nme\" : \"Oppo F15\"                   , \"Price\" : 19990  , \"Ram-Rom\" : \"8GB-128GB\" , \"Camera\" : \"48MP\" , \"Battery\" : \"4000mAh\" , \"Quantity\" : 10 , \"Processor\" : \"MediaTek Helio P70\"},\n",
        "            5112375 : {\"Mobile Nme\" : \"Oppo Reno2 F\"               , \"Price\" : 23000  , \"Ram-Rom\" : \"8GB-128GB\" , \"Camera\" : \"48MP\" , \"Battery\" : \"4000mAh\" , \"Quantity\" : 11 , \"Processor\" : \"2.0GHz Helio P70 octa core\"},\n",
        "            5112376 : {\"Mobile Nme\" : \"Oppo A9\"                    , \"Price\" : 15800  , \"Ram-Rom\" : \"4GB-128GB\" , \"Camera\" : \"48MP\" , \"Battery\" : \"5000mAh\" , \"Quantity\" : 15 , \"Processor\" : \"Qualcomm Snapdragon 665\"},\n",
        "            5112377 : {\"Mobile Nme\" : \"Oppo A5\"                    , \"Price\" : 11400  , \"Ram-Rom\" : \"6GB-128GB\" , \"Camera\" : \"12MP\" , \"Battery\" : \"5000mAh\" , \"Quantity\" : 20 , \"Processor\" : \"2.0 GHz Octa Core \"},\n",
        "            5112378 : {\"Mobile Nme\" : \"Oppo Reno2 Z\"               , \"Price\" : 25990  , \"Ram-Rom\" : \"8GB-256GB\" , \"Camera\" : \"48MP\" , \"Battery\" : \"4000mAh\" , \"Quantity\" : 16 , \"Processor\" : \"Media Tek helio P90\"},\n",
        "            5112379 : {\"Mobile Nme\" : \"Redmi Note 8 Pro\"           , \"Price\" : 14999  , \"Ram-Rom\" : \"6GB-64GB\"  , \"Camera\" : \"64MP\" , \"Battery\" : \"4500mAh\" , \"Quantity\" : 21 , \"Processor\" : \"Media Tek helio G90T\"},\n",
        "            5112380 : {\"Mobile Nme\" : \"Redmi 8\"                    , \"Price\" : 7999   , \"Ram-Rom\" : \"4GB-64GB\"  , \"Camera\" : \"12MP\" , \"Battery\" : \"5000mAh\" , \"Quantity\" : 11 , \"Processor\" : \"Qualcomm Snapdragon 439\"},\n",
        "            5112381 : {\"Mobile Nme\" : \"Xiaomi Mi A3\"               , \"Price\" : 11999  , \"Ram-Rom\" : \"4GB-64GB\"  , \"Camera\" : \"48MP\" , \"Battery\" : \"4030mAh\" , \"Quantity\" : 14 , \"Processor\" : \"Qualcomm Snapdragon 665\"},\n",
        "            5112382 : {\"Mobile Nme\" : \"Redmi K20\"                  , \"Price\" : 19999  , \"Ram-Rom\" : \"6GB-128GB\" , \"Camera\" : \"48MP\" , \"Battery\" : \"4000mAh\" , \"Quantity\" : 22 , \"Processor\" : \"Qualcomm Snapdragon 855\"},\n",
        "            5112383 : {\"Mobile Nme\" : \"Redmi 7A\"                   , \"Price\" : 4999   , \"Ram-Rom\" : \"2GB-16GB\"  , \"Camera\" : \"12MP\" , \"Battery\" : \"4000mAh\" , \"Quantity\" : 20 , \"Processor\" : \"Qualcomm Snapdragon 439\"},\n",
        "            5112384 : {\"Mobile Nme\" : \"OnePlus 7T Pro\"             , \"Price\" : 53999  , \"Ram-Rom\" : \"8GB-256GB\" , \"Camera\" : \"48MP\" , \"Battery\" : \"4085mAh\" , \"Quantity\" : 10 , \"Processor\" : \"Qualcomm Snapdragon 855+\"},\n",
        "            5112385 : {\"Mobile Nme\" : \"OnePlus 7T\"                 , \"Price\" : 34575  , \"Ram-Rom\" : \"8GB-128GB\" , \"Camera\" : \"48MP\" , \"Battery\" : \"3800mAh\" , \"Quantity\" : 17 , \"Processor\" : \"Qualcomm Snapdragon 855+\"},\n",
        "            5112386 : {\"Mobile Nme\" : \"OnePlus 6T\"                 , \"Price\" : 37999  , \"Ram-Rom\" : \"6GB-128GB\" , \"Camera\" : \"20MP\" , \"Battery\" : \"3700mAh\" , \"Quantity\" : 19 , \"Processor\" : \"Qualcomm Snapdragon 845\"},\n",
        "            5112387 : {\"Mobile Nme\" : \"OnePlus 6\"                  , \"Price\" : 39999  , \"Ram-Rom\" : \"6GB-64GB\"  , \"Camera\" : \"20MP\" , \"Battery\" : \"3300mAh\" , \"Quantity\" : 30 , \"Processor\" : \"Qualcomm Snapdragon 845\"},\n",
        "            5112388 : {\"Mobile Nme\" : \"OnePlus 5T\"                 , \"Price\" : 32999  , \"Ram-Rom\" : \"6GB-64GB\"  , \"Camera\" : \"20MP\" , \"Battery\" : \"3300mAh\" , \"Quantity\" : 24 , \"Processor\" : \"Qualcomm Snapdragon 835\"},\n",
        "            5112389 : {\"Mobile Nme\" : \"Sony Xperia XZ2\"            , \"Price\" : 74990  , \"Ram-Rom\" : \"4GB-64GB\"  , \"Camera\" : \"19MP\" , \"Battery\" : \"3180mAh\" , \"Quantity\" : 18 , \"Processor\" : \"Qualcomm Snapdragon 845\"},\n",
        "            5112390 : {\"Mobile Nme\" : \"Sony Xperia L2\"             , \"Price\" : 15990  , \"Ram-Rom\" : \"3GB-32GB\"  , \"Camera\" : \"13MP\" , \"Battery\" : \"3300mAh\" , \"Quantity\" : 14 , \"Processor\" : \"MediaTek MT6737T\"},\n",
        "            5112391 : {\"Mobile Nme\" : \"Sony Xperia XA2 Ultra\"      , \"Price\" : 29999  , \"Ram-Rom\" : \"4GB-32GB\"  , \"Camera\" : \"23MP\" , \"Battery\" : \"3580mAh\" , \"Quantity\" : 11 , \"Processor\" : \"Qualcomm Snapdragon 630\"},\n",
        "            5112392 : {\"Mobile Nme\" : \"Sony Xperia XA1 Ultra\"      , \"Price\" : 22990  , \"Ram-Rom\" : \"4GB-64GB\"  , \"Camera\" : \"23MP\" , \"Battery\" : \"2700mAh\" , \"Quantity\" : 19 , \"Processor\" : \"MediaTek Helio P20\"},\n",
        "            5112393 : {\"Mobile Nme\" : \"Sony Xperia XZs\"            , \"Price\" : 29990  , \"Ram-Rom\" : \"4GB-32GB\"  , \"Camera\" : \"19MP\" , \"Battery\" : \"2900mAh\" , \"Quantity\" : 25 , \"Processor\" : \"Qualcomm Snapdragon 820\"},\n",
        "            5112394 : {\"Mobile Nme\" : \"Samsung Galaxy A51\"         , \"Price\" : 23999  , \"Ram-Rom\" : \"6GB-128GB\" , \"Camera\" : \"48MP\" , \"Battery\" : \"4000mAh\" , \"Quantity\" : 33 , \"Processor\" : \"Qualcomm Snapdragon 765G\"},\n",
        "            5112395 : {\"Mobile Nme\" : \"Samsung Galaxy S10 Lite\"    , \"Price\" : 39999  , \"Ram-Rom\" : \"8GB-128GB\" , \"Camera\" : \"48MP\" , \"Battery\" : \"4500mAh\" , \"Quantity\" : 44 , \"Processor\" : \"Qualcomm Snapdragon 855\"},\n",
        "            5112396 : {\"Mobile Nme\" : \"Samsung Galaxy Note10 Lite\" , \"Price\" : 38999  , \"Ram-Rom\" : \"6GB-128GB\" , \"Camera\" : \"12MP\" , \"Battery\" : \"4500mAh\" , \"Quantity\" : 18 , \"Processor\" : \"2.7GH octa-core\"},\n",
        "            5112397 : {\"Mobile Nme\" : \"Samsung Galaxy A20s\"        , \"Price\" : 10999  , \"Ram-Rom\" : \"3GB-32GB\"  , \"Camera\" : \"13MP\" , \"Battery\" : \"4000mAh\" , \"Quantity\" : 17 , \"Processor\" : \"Qualcomm Snapdragon 450\"},\n",
        "            5112398 : {\"Mobile Nme\" : \"Samsung Galaxy A70s\"        , \"Price\" : 25999  , \"Ram-Rom\" : \"6GB-128GB\" , \"Camera\" : \"64MP\" , \"Battery\" : \"4500mAh\" , \"Quantity\" : 16 , \"Processor\" : \"Qualcomm Snapdragon 675\"},\n",
        "            5112399 : {\"Mobile Nme\" : \"Apple iphone 11\"            , \"Price\" : 63900  , \"Ram-Rom\" : \"4GB-128GB\" , \"Camera\" : \"12MP\" , \"Battery\" : \"3110mAh\" , \"Quantity\" : 19 , \"Processor\" : \"Apple A13 Bionic\"},\n",
        "            5112400 : {\"Mobile Nme\" : \"Apple iphone 11 Pro\"        , \"Price\" : 99900  , \"Ram-Rom\" : \"4GB-64GB\"  , \"Camera\" : \"12MP\" , \"Battery\" : \"3046mAh\" , \"Quantity\" : 12 , \"Processor\" : \"Apple A13 Bionic\"},\n",
        "            5112401 : {\"Mobile Nme\" : \"Apple iphone 11 Pro Max\"    , \"Price\" : 106900 , \"Ram-Rom\" : \"4GB-64GB\"  , \"Camera\" : \"12MP\" , \"Battery\" : \"3969mAh\" , \"Quantity\" : 13 , \"Processor\" : \"Apple A13 Bionic\"},\n",
        "            5112402 : {\"Mobile Nme\" : \"Apple iphone XR\"            , \"Price\" : 47599  , \"Ram-Rom\" : \"3GB-64GB\"  , \"Camera\" : \"12MP\" , \"Battery\" : \"2942mAh\" , \"Quantity\" : 15 , \"Processor\" : \"Apple A12 Bionic\"},\n",
        "            5112403 : {\"Mobile Nme\" : \"Apple iphone XS Max\"        , \"Price\" : 69999  , \"Ram-Rom\" : \"4GB-64GB\"  , \"Camera\" : \"12MP\" , \"Battery\" : \"3000mAh\" , \"Quantity\" : 18 , \"Processor\" : \"Apple A12 Bionic\"}}"
      ],
      "execution_count": 1,
      "outputs": []
    },
    {
      "cell_type": "code",
      "metadata": {
        "id": "DAcEVKqmr2Oy"
      },
      "source": [
        "import json"
      ],
      "execution_count": 2,
      "outputs": []
    },
    {
      "cell_type": "code",
      "metadata": {
        "id": "_x8LkiD5zgG-"
      },
      "source": [
        "js = json.dumps(products)"
      ],
      "execution_count": 3,
      "outputs": []
    },
    {
      "cell_type": "code",
      "metadata": {
        "id": "3KOTTIZYzntB"
      },
      "source": [
        "fd = open(\"products.json\",'w')\n",
        "\n",
        "fd.write(js)\n",
        "\n",
        "fd.close()"
      ],
      "execution_count": 4,
      "outputs": []
    },
    {
      "cell_type": "code",
      "metadata": {
        "id": "LpRNHs_B1kfA"
      },
      "source": [
        "fd = open(\"products.json\",'r')\n",
        "\n",
        "r = fd.read()\n",
        "\n",
        "fd.close()"
      ],
      "execution_count": 5,
      "outputs": []
    },
    {
      "cell_type": "code",
      "metadata": {
        "id": "VEwNkPIb3sI8"
      },
      "source": [
        "products = json.loads(r)"
      ],
      "execution_count": 6,
      "outputs": []
    },
    {
      "cell_type": "code",
      "metadata": {
        "colab": {
          "base_uri": "https://localhost:8080/"
        },
        "id": "Jucorfro3u9g",
        "outputId": "2cd0c782-55ff-46c1-c40a-a05af2477e1d"
      },
      "source": [
        "products"
      ],
      "execution_count": 7,
      "outputs": [
        {
          "output_type": "execute_result",
          "data": {
            "text/plain": [
              "{'5112374': {'Battery': '4000mAh',\n",
              "  'Camera': '48MP',\n",
              "  'Mobile Nme': 'Oppo F15',\n",
              "  'Price': 19990,\n",
              "  'Processor': 'MediaTek Helio P70',\n",
              "  'Quantity': 10,\n",
              "  'Ram-Rom': '8GB-128GB'},\n",
              " '5112375': {'Battery': '4000mAh',\n",
              "  'Camera': '48MP',\n",
              "  'Mobile Nme': 'Oppo Reno2 F',\n",
              "  'Price': 23000,\n",
              "  'Processor': '2.0GHz Helio P70 octa core',\n",
              "  'Quantity': 11,\n",
              "  'Ram-Rom': '8GB-128GB'},\n",
              " '5112376': {'Battery': '5000mAh',\n",
              "  'Camera': '48MP',\n",
              "  'Mobile Nme': 'Oppo A9',\n",
              "  'Price': 15800,\n",
              "  'Processor': 'Qualcomm Snapdragon 665',\n",
              "  'Quantity': 15,\n",
              "  'Ram-Rom': '4GB-128GB'},\n",
              " '5112377': {'Battery': '5000mAh',\n",
              "  'Camera': '12MP',\n",
              "  'Mobile Nme': 'Oppo A5',\n",
              "  'Price': 11400,\n",
              "  'Processor': '2.0 GHz Octa Core ',\n",
              "  'Quantity': 20,\n",
              "  'Ram-Rom': '6GB-128GB'},\n",
              " '5112378': {'Battery': '4000mAh',\n",
              "  'Camera': '48MP',\n",
              "  'Mobile Nme': 'Oppo Reno2 Z',\n",
              "  'Price': 25990,\n",
              "  'Processor': 'Media Tek helio P90',\n",
              "  'Quantity': 16,\n",
              "  'Ram-Rom': '8GB-256GB'},\n",
              " '5112379': {'Battery': '4500mAh',\n",
              "  'Camera': '64MP',\n",
              "  'Mobile Nme': 'Redmi Note 8 Pro',\n",
              "  'Price': 14999,\n",
              "  'Processor': 'Media Tek helio G90T',\n",
              "  'Quantity': 21,\n",
              "  'Ram-Rom': '6GB-64GB'},\n",
              " '5112380': {'Battery': '5000mAh',\n",
              "  'Camera': '12MP',\n",
              "  'Mobile Nme': 'Redmi 8',\n",
              "  'Price': 7999,\n",
              "  'Processor': 'Qualcomm Snapdragon 439',\n",
              "  'Quantity': 11,\n",
              "  'Ram-Rom': '4GB-64GB'},\n",
              " '5112381': {'Battery': '4030mAh',\n",
              "  'Camera': '48MP',\n",
              "  'Mobile Nme': 'Xiaomi Mi A3',\n",
              "  'Price': 11999,\n",
              "  'Processor': 'Qualcomm Snapdragon 665',\n",
              "  'Quantity': 14,\n",
              "  'Ram-Rom': '4GB-64GB'},\n",
              " '5112382': {'Battery': '4000mAh',\n",
              "  'Camera': '48MP',\n",
              "  'Mobile Nme': 'Redmi K20',\n",
              "  'Price': 19999,\n",
              "  'Processor': 'Qualcomm Snapdragon 855',\n",
              "  'Quantity': 22,\n",
              "  'Ram-Rom': '6GB-128GB'},\n",
              " '5112383': {'Battery': '4000mAh',\n",
              "  'Camera': '12MP',\n",
              "  'Mobile Nme': 'Redmi 7A',\n",
              "  'Price': 4999,\n",
              "  'Processor': 'Qualcomm Snapdragon 439',\n",
              "  'Quantity': 20,\n",
              "  'Ram-Rom': '2GB-16GB'},\n",
              " '5112384': {'Battery': '4085mAh',\n",
              "  'Camera': '48MP',\n",
              "  'Mobile Nme': 'OnePlus 7T Pro',\n",
              "  'Price': 53999,\n",
              "  'Processor': 'Qualcomm Snapdragon 855+',\n",
              "  'Quantity': 10,\n",
              "  'Ram-Rom': '8GB-256GB'},\n",
              " '5112385': {'Battery': '3800mAh',\n",
              "  'Camera': '48MP',\n",
              "  'Mobile Nme': 'OnePlus 7T',\n",
              "  'Price': 34575,\n",
              "  'Processor': 'Qualcomm Snapdragon 855+',\n",
              "  'Quantity': 17,\n",
              "  'Ram-Rom': '8GB-128GB'},\n",
              " '5112386': {'Battery': '3700mAh',\n",
              "  'Camera': '20MP',\n",
              "  'Mobile Nme': 'OnePlus 6T',\n",
              "  'Price': 37999,\n",
              "  'Processor': 'Qualcomm Snapdragon 845',\n",
              "  'Quantity': 19,\n",
              "  'Ram-Rom': '6GB-128GB'},\n",
              " '5112387': {'Battery': '3300mAh',\n",
              "  'Camera': '20MP',\n",
              "  'Mobile Nme': 'OnePlus 6',\n",
              "  'Price': 39999,\n",
              "  'Processor': 'Qualcomm Snapdragon 845',\n",
              "  'Quantity': 30,\n",
              "  'Ram-Rom': '6GB-64GB'},\n",
              " '5112388': {'Battery': '3300mAh',\n",
              "  'Camera': '20MP',\n",
              "  'Mobile Nme': 'OnePlus 5T',\n",
              "  'Price': 32999,\n",
              "  'Processor': 'Qualcomm Snapdragon 835',\n",
              "  'Quantity': 24,\n",
              "  'Ram-Rom': '6GB-64GB'},\n",
              " '5112389': {'Battery': '3180mAh',\n",
              "  'Camera': '19MP',\n",
              "  'Mobile Nme': 'Sony Xperia XZ2',\n",
              "  'Price': 74990,\n",
              "  'Processor': 'Qualcomm Snapdragon 845',\n",
              "  'Quantity': 18,\n",
              "  'Ram-Rom': '4GB-64GB'},\n",
              " '5112390': {'Battery': '3300mAh',\n",
              "  'Camera': '13MP',\n",
              "  'Mobile Nme': 'Sony Xperia L2',\n",
              "  'Price': 15990,\n",
              "  'Processor': 'MediaTek MT6737T',\n",
              "  'Quantity': 14,\n",
              "  'Ram-Rom': '3GB-32GB'},\n",
              " '5112391': {'Battery': '3580mAh',\n",
              "  'Camera': '23MP',\n",
              "  'Mobile Nme': 'Sony Xperia XA2 Ultra',\n",
              "  'Price': 29999,\n",
              "  'Processor': 'Qualcomm Snapdragon 630',\n",
              "  'Quantity': 11,\n",
              "  'Ram-Rom': '4GB-32GB'},\n",
              " '5112392': {'Battery': '2700mAh',\n",
              "  'Camera': '23MP',\n",
              "  'Mobile Nme': 'Sony Xperia XA1 Ultra',\n",
              "  'Price': 22990,\n",
              "  'Processor': 'MediaTek Helio P20',\n",
              "  'Quantity': 19,\n",
              "  'Ram-Rom': '4GB-64GB'},\n",
              " '5112393': {'Battery': '2900mAh',\n",
              "  'Camera': '19MP',\n",
              "  'Mobile Nme': 'Sony Xperia XZs',\n",
              "  'Price': 29990,\n",
              "  'Processor': 'Qualcomm Snapdragon 820',\n",
              "  'Quantity': 25,\n",
              "  'Ram-Rom': '4GB-32GB'},\n",
              " '5112394': {'Battery': '4000mAh',\n",
              "  'Camera': '48MP',\n",
              "  'Mobile Nme': 'Samsung Galaxy A51',\n",
              "  'Price': 23999,\n",
              "  'Processor': 'Qualcomm Snapdragon 765G',\n",
              "  'Quantity': 33,\n",
              "  'Ram-Rom': '6GB-128GB'},\n",
              " '5112395': {'Battery': '4500mAh',\n",
              "  'Camera': '48MP',\n",
              "  'Mobile Nme': 'Samsung Galaxy S10 Lite',\n",
              "  'Price': 39999,\n",
              "  'Processor': 'Qualcomm Snapdragon 855',\n",
              "  'Quantity': 44,\n",
              "  'Ram-Rom': '8GB-128GB'},\n",
              " '5112396': {'Battery': '4500mAh',\n",
              "  'Camera': '12MP',\n",
              "  'Mobile Nme': 'Samsung Galaxy Note10 Lite',\n",
              "  'Price': 38999,\n",
              "  'Processor': '2.7GH octa-core',\n",
              "  'Quantity': 18,\n",
              "  'Ram-Rom': '6GB-128GB'},\n",
              " '5112397': {'Battery': '4000mAh',\n",
              "  'Camera': '13MP',\n",
              "  'Mobile Nme': 'Samsung Galaxy A20s',\n",
              "  'Price': 10999,\n",
              "  'Processor': 'Qualcomm Snapdragon 450',\n",
              "  'Quantity': 17,\n",
              "  'Ram-Rom': '3GB-32GB'},\n",
              " '5112398': {'Battery': '4500mAh',\n",
              "  'Camera': '64MP',\n",
              "  'Mobile Nme': 'Samsung Galaxy A70s',\n",
              "  'Price': 25999,\n",
              "  'Processor': 'Qualcomm Snapdragon 675',\n",
              "  'Quantity': 16,\n",
              "  'Ram-Rom': '6GB-128GB'},\n",
              " '5112399': {'Battery': '3110mAh',\n",
              "  'Camera': '12MP',\n",
              "  'Mobile Nme': 'Apple iphone 11',\n",
              "  'Price': 63900,\n",
              "  'Processor': 'Apple A13 Bionic',\n",
              "  'Quantity': 19,\n",
              "  'Ram-Rom': '4GB-128GB'},\n",
              " '5112400': {'Battery': '3046mAh',\n",
              "  'Camera': '12MP',\n",
              "  'Mobile Nme': 'Apple iphone 11 Pro',\n",
              "  'Price': 99900,\n",
              "  'Processor': 'Apple A13 Bionic',\n",
              "  'Quantity': 12,\n",
              "  'Ram-Rom': '4GB-64GB'},\n",
              " '5112401': {'Battery': '3969mAh',\n",
              "  'Camera': '12MP',\n",
              "  'Mobile Nme': 'Apple iphone 11 Pro Max',\n",
              "  'Price': 106900,\n",
              "  'Processor': 'Apple A13 Bionic',\n",
              "  'Quantity': 13,\n",
              "  'Ram-Rom': '4GB-64GB'},\n",
              " '5112402': {'Battery': '2942mAh',\n",
              "  'Camera': '12MP',\n",
              "  'Mobile Nme': 'Apple iphone XR',\n",
              "  'Price': 47599,\n",
              "  'Processor': 'Apple A12 Bionic',\n",
              "  'Quantity': 15,\n",
              "  'Ram-Rom': '3GB-64GB'},\n",
              " '5112403': {'Battery': '3000mAh',\n",
              "  'Camera': '12MP',\n",
              "  'Mobile Nme': 'Apple iphone XS Max',\n",
              "  'Price': 69999,\n",
              "  'Processor': 'Apple A12 Bionic',\n",
              "  'Quantity': 18,\n",
              "  'Ram-Rom': '4GB-64GB'}}"
            ]
          },
          "metadata": {},
          "execution_count": 7
        }
      ]
    },
    {
      "cell_type": "markdown",
      "metadata": {
        "id": "JYLZmirkv_ko"
      },
      "source": [
        "Add Product In Inventory\n"
      ]
    },
    {
      "cell_type": "code",
      "metadata": {
        "colab": {
          "base_uri": "https://localhost:8080/"
        },
        "id": "_QZ2-eSe5keN",
        "outputId": "48f86547-7d0a-42c8-bc97-1a21da1f45da"
      },
      "source": [
        "products"
      ],
      "execution_count": 8,
      "outputs": [
        {
          "output_type": "execute_result",
          "data": {
            "text/plain": [
              "{'5112374': {'Battery': '4000mAh',\n",
              "  'Camera': '48MP',\n",
              "  'Mobile Nme': 'Oppo F15',\n",
              "  'Price': 19990,\n",
              "  'Processor': 'MediaTek Helio P70',\n",
              "  'Quantity': 10,\n",
              "  'Ram-Rom': '8GB-128GB'},\n",
              " '5112375': {'Battery': '4000mAh',\n",
              "  'Camera': '48MP',\n",
              "  'Mobile Nme': 'Oppo Reno2 F',\n",
              "  'Price': 23000,\n",
              "  'Processor': '2.0GHz Helio P70 octa core',\n",
              "  'Quantity': 11,\n",
              "  'Ram-Rom': '8GB-128GB'},\n",
              " '5112376': {'Battery': '5000mAh',\n",
              "  'Camera': '48MP',\n",
              "  'Mobile Nme': 'Oppo A9',\n",
              "  'Price': 15800,\n",
              "  'Processor': 'Qualcomm Snapdragon 665',\n",
              "  'Quantity': 15,\n",
              "  'Ram-Rom': '4GB-128GB'},\n",
              " '5112377': {'Battery': '5000mAh',\n",
              "  'Camera': '12MP',\n",
              "  'Mobile Nme': 'Oppo A5',\n",
              "  'Price': 11400,\n",
              "  'Processor': '2.0 GHz Octa Core ',\n",
              "  'Quantity': 20,\n",
              "  'Ram-Rom': '6GB-128GB'},\n",
              " '5112378': {'Battery': '4000mAh',\n",
              "  'Camera': '48MP',\n",
              "  'Mobile Nme': 'Oppo Reno2 Z',\n",
              "  'Price': 25990,\n",
              "  'Processor': 'Media Tek helio P90',\n",
              "  'Quantity': 16,\n",
              "  'Ram-Rom': '8GB-256GB'},\n",
              " '5112379': {'Battery': '4500mAh',\n",
              "  'Camera': '64MP',\n",
              "  'Mobile Nme': 'Redmi Note 8 Pro',\n",
              "  'Price': 14999,\n",
              "  'Processor': 'Media Tek helio G90T',\n",
              "  'Quantity': 21,\n",
              "  'Ram-Rom': '6GB-64GB'},\n",
              " '5112380': {'Battery': '5000mAh',\n",
              "  'Camera': '12MP',\n",
              "  'Mobile Nme': 'Redmi 8',\n",
              "  'Price': 7999,\n",
              "  'Processor': 'Qualcomm Snapdragon 439',\n",
              "  'Quantity': 11,\n",
              "  'Ram-Rom': '4GB-64GB'},\n",
              " '5112381': {'Battery': '4030mAh',\n",
              "  'Camera': '48MP',\n",
              "  'Mobile Nme': 'Xiaomi Mi A3',\n",
              "  'Price': 11999,\n",
              "  'Processor': 'Qualcomm Snapdragon 665',\n",
              "  'Quantity': 14,\n",
              "  'Ram-Rom': '4GB-64GB'},\n",
              " '5112382': {'Battery': '4000mAh',\n",
              "  'Camera': '48MP',\n",
              "  'Mobile Nme': 'Redmi K20',\n",
              "  'Price': 19999,\n",
              "  'Processor': 'Qualcomm Snapdragon 855',\n",
              "  'Quantity': 22,\n",
              "  'Ram-Rom': '6GB-128GB'},\n",
              " '5112383': {'Battery': '4000mAh',\n",
              "  'Camera': '12MP',\n",
              "  'Mobile Nme': 'Redmi 7A',\n",
              "  'Price': 4999,\n",
              "  'Processor': 'Qualcomm Snapdragon 439',\n",
              "  'Quantity': 20,\n",
              "  'Ram-Rom': '2GB-16GB'},\n",
              " '5112384': {'Battery': '4085mAh',\n",
              "  'Camera': '48MP',\n",
              "  'Mobile Nme': 'OnePlus 7T Pro',\n",
              "  'Price': 53999,\n",
              "  'Processor': 'Qualcomm Snapdragon 855+',\n",
              "  'Quantity': 10,\n",
              "  'Ram-Rom': '8GB-256GB'},\n",
              " '5112385': {'Battery': '3800mAh',\n",
              "  'Camera': '48MP',\n",
              "  'Mobile Nme': 'OnePlus 7T',\n",
              "  'Price': 34575,\n",
              "  'Processor': 'Qualcomm Snapdragon 855+',\n",
              "  'Quantity': 17,\n",
              "  'Ram-Rom': '8GB-128GB'},\n",
              " '5112386': {'Battery': '3700mAh',\n",
              "  'Camera': '20MP',\n",
              "  'Mobile Nme': 'OnePlus 6T',\n",
              "  'Price': 37999,\n",
              "  'Processor': 'Qualcomm Snapdragon 845',\n",
              "  'Quantity': 19,\n",
              "  'Ram-Rom': '6GB-128GB'},\n",
              " '5112387': {'Battery': '3300mAh',\n",
              "  'Camera': '20MP',\n",
              "  'Mobile Nme': 'OnePlus 6',\n",
              "  'Price': 39999,\n",
              "  'Processor': 'Qualcomm Snapdragon 845',\n",
              "  'Quantity': 30,\n",
              "  'Ram-Rom': '6GB-64GB'},\n",
              " '5112388': {'Battery': '3300mAh',\n",
              "  'Camera': '20MP',\n",
              "  'Mobile Nme': 'OnePlus 5T',\n",
              "  'Price': 32999,\n",
              "  'Processor': 'Qualcomm Snapdragon 835',\n",
              "  'Quantity': 24,\n",
              "  'Ram-Rom': '6GB-64GB'},\n",
              " '5112389': {'Battery': '3180mAh',\n",
              "  'Camera': '19MP',\n",
              "  'Mobile Nme': 'Sony Xperia XZ2',\n",
              "  'Price': 74990,\n",
              "  'Processor': 'Qualcomm Snapdragon 845',\n",
              "  'Quantity': 18,\n",
              "  'Ram-Rom': '4GB-64GB'},\n",
              " '5112390': {'Battery': '3300mAh',\n",
              "  'Camera': '13MP',\n",
              "  'Mobile Nme': 'Sony Xperia L2',\n",
              "  'Price': 15990,\n",
              "  'Processor': 'MediaTek MT6737T',\n",
              "  'Quantity': 14,\n",
              "  'Ram-Rom': '3GB-32GB'},\n",
              " '5112391': {'Battery': '3580mAh',\n",
              "  'Camera': '23MP',\n",
              "  'Mobile Nme': 'Sony Xperia XA2 Ultra',\n",
              "  'Price': 29999,\n",
              "  'Processor': 'Qualcomm Snapdragon 630',\n",
              "  'Quantity': 11,\n",
              "  'Ram-Rom': '4GB-32GB'},\n",
              " '5112392': {'Battery': '2700mAh',\n",
              "  'Camera': '23MP',\n",
              "  'Mobile Nme': 'Sony Xperia XA1 Ultra',\n",
              "  'Price': 22990,\n",
              "  'Processor': 'MediaTek Helio P20',\n",
              "  'Quantity': 19,\n",
              "  'Ram-Rom': '4GB-64GB'},\n",
              " '5112393': {'Battery': '2900mAh',\n",
              "  'Camera': '19MP',\n",
              "  'Mobile Nme': 'Sony Xperia XZs',\n",
              "  'Price': 29990,\n",
              "  'Processor': 'Qualcomm Snapdragon 820',\n",
              "  'Quantity': 25,\n",
              "  'Ram-Rom': '4GB-32GB'},\n",
              " '5112394': {'Battery': '4000mAh',\n",
              "  'Camera': '48MP',\n",
              "  'Mobile Nme': 'Samsung Galaxy A51',\n",
              "  'Price': 23999,\n",
              "  'Processor': 'Qualcomm Snapdragon 765G',\n",
              "  'Quantity': 33,\n",
              "  'Ram-Rom': '6GB-128GB'},\n",
              " '5112395': {'Battery': '4500mAh',\n",
              "  'Camera': '48MP',\n",
              "  'Mobile Nme': 'Samsung Galaxy S10 Lite',\n",
              "  'Price': 39999,\n",
              "  'Processor': 'Qualcomm Snapdragon 855',\n",
              "  'Quantity': 44,\n",
              "  'Ram-Rom': '8GB-128GB'},\n",
              " '5112396': {'Battery': '4500mAh',\n",
              "  'Camera': '12MP',\n",
              "  'Mobile Nme': 'Samsung Galaxy Note10 Lite',\n",
              "  'Price': 38999,\n",
              "  'Processor': '2.7GH octa-core',\n",
              "  'Quantity': 18,\n",
              "  'Ram-Rom': '6GB-128GB'},\n",
              " '5112397': {'Battery': '4000mAh',\n",
              "  'Camera': '13MP',\n",
              "  'Mobile Nme': 'Samsung Galaxy A20s',\n",
              "  'Price': 10999,\n",
              "  'Processor': 'Qualcomm Snapdragon 450',\n",
              "  'Quantity': 17,\n",
              "  'Ram-Rom': '3GB-32GB'},\n",
              " '5112398': {'Battery': '4500mAh',\n",
              "  'Camera': '64MP',\n",
              "  'Mobile Nme': 'Samsung Galaxy A70s',\n",
              "  'Price': 25999,\n",
              "  'Processor': 'Qualcomm Snapdragon 675',\n",
              "  'Quantity': 16,\n",
              "  'Ram-Rom': '6GB-128GB'},\n",
              " '5112399': {'Battery': '3110mAh',\n",
              "  'Camera': '12MP',\n",
              "  'Mobile Nme': 'Apple iphone 11',\n",
              "  'Price': 63900,\n",
              "  'Processor': 'Apple A13 Bionic',\n",
              "  'Quantity': 19,\n",
              "  'Ram-Rom': '4GB-128GB'},\n",
              " '5112400': {'Battery': '3046mAh',\n",
              "  'Camera': '12MP',\n",
              "  'Mobile Nme': 'Apple iphone 11 Pro',\n",
              "  'Price': 99900,\n",
              "  'Processor': 'Apple A13 Bionic',\n",
              "  'Quantity': 12,\n",
              "  'Ram-Rom': '4GB-64GB'},\n",
              " '5112401': {'Battery': '3969mAh',\n",
              "  'Camera': '12MP',\n",
              "  'Mobile Nme': 'Apple iphone 11 Pro Max',\n",
              "  'Price': 106900,\n",
              "  'Processor': 'Apple A13 Bionic',\n",
              "  'Quantity': 13,\n",
              "  'Ram-Rom': '4GB-64GB'},\n",
              " '5112402': {'Battery': '2942mAh',\n",
              "  'Camera': '12MP',\n",
              "  'Mobile Nme': 'Apple iphone XR',\n",
              "  'Price': 47599,\n",
              "  'Processor': 'Apple A12 Bionic',\n",
              "  'Quantity': 15,\n",
              "  'Ram-Rom': '3GB-64GB'},\n",
              " '5112403': {'Battery': '3000mAh',\n",
              "  'Camera': '12MP',\n",
              "  'Mobile Nme': 'Apple iphone XS Max',\n",
              "  'Price': 69999,\n",
              "  'Processor': 'Apple A12 Bionic',\n",
              "  'Quantity': 18,\n",
              "  'Ram-Rom': '4GB-64GB'}}"
            ]
          },
          "metadata": {},
          "execution_count": 8
        }
      ]
    },
    {
      "cell_type": "code",
      "metadata": {
        "colab": {
          "base_uri": "https://localhost:8080/"
        },
        "id": "zrhOeoDQ5sDe",
        "outputId": "1309d8f6-b977-4f0d-bc30-d81f510351fb"
      },
      "source": [
        "Prod_id = str(input(\"enter the pid: \"))\n",
        "Product_Name = str(input(\"enter the product name: \"))\n",
        "Price = int(input(\"enter the price: \"))\n",
        "Ram_Rom = str(input(\"enter the Ram-Rom: \"))\n",
        "Camera = str(input(\"enter the camera pixel: \"))\n",
        "Battery = str(input(\"enter the capacity of Battery: \"))\n",
        "Quantity = int(input(\"enter the total quantity\"))\n",
        "Processor = str(input(\"enter the processor name: \"))\n",
        "\n",
        "products[Prod_id] = {\"Mobile Nme\" : Product_Name, \"Price\" : Price, \"Ram-Rom\" : Ram_Rom, \"Camera\" :  Camera, \"Battery\" : Battery, \"Quantity\" : Quantity, \"Processor\" : Processor}\n",
        "\n",
        "js = json.dumps(products)\n",
        "\n",
        "fd = open(\"products.json\",\"w\")\n",
        "fd.write(js)\n",
        "fd.close()\n"
      ],
      "execution_count": 15,
      "outputs": [
        {
          "name": "stdout",
          "output_type": "stream",
          "text": [
            "enter the pid: 5113406\n",
            "enter the product name: Redmi \n",
            "enter the price: 7999\n",
            "enter the Ram-Rom: 4GB-64GB\n",
            "enter the camera pixel: 45MP\n",
            "enter the capacity of Battery: 5000mAh\n",
            "enter the total quantity18\n",
            "enter the processor name: Snapdragon 655+\n"
          ]
        }
      ]
    },
    {
      "cell_type": "markdown",
      "metadata": {
        "id": "9P_VBviWYf_d"
      },
      "source": [
        "Read Inventory"
      ]
    },
    {
      "cell_type": "code",
      "metadata": {
        "id": "tBejd2VIYfWS"
      },
      "source": [
        "import json"
      ],
      "execution_count": 16,
      "outputs": []
    },
    {
      "cell_type": "code",
      "metadata": {
        "id": "oZHLmo0ppIna"
      },
      "source": [
        "fd = open(\"products.json\",\"r\")\n",
        "r = fd.read()\n",
        "fd.close()\n",
        "\n",
        "products = json.loads(r)"
      ],
      "execution_count": 17,
      "outputs": []
    },
    {
      "cell_type": "code",
      "metadata": {
        "colab": {
          "base_uri": "https://localhost:8080/"
        },
        "id": "XStdvwU-ZcOI",
        "outputId": "d47ff476-6768-4c83-8859-68429b0b08bf"
      },
      "source": [
        "products"
      ],
      "execution_count": 18,
      "outputs": [
        {
          "output_type": "execute_result",
          "data": {
            "text/plain": [
              "{'5112374': {'Battery': '4000mAh',\n",
              "  'Camera': '48MP',\n",
              "  'Mobile Nme': 'Oppo F15',\n",
              "  'Price': 19990,\n",
              "  'Processor': 'MediaTek Helio P70',\n",
              "  'Quantity': 10,\n",
              "  'Ram-Rom': '8GB-128GB'},\n",
              " '5112375': {'Battery': '4000mAh',\n",
              "  'Camera': '48MP',\n",
              "  'Mobile Nme': 'Oppo Reno2 F',\n",
              "  'Price': 23000,\n",
              "  'Processor': '2.0GHz Helio P70 octa core',\n",
              "  'Quantity': 11,\n",
              "  'Ram-Rom': '8GB-128GB'},\n",
              " '5112376': {'Battery': '5000mAh',\n",
              "  'Camera': '48MP',\n",
              "  'Mobile Nme': 'Oppo A9',\n",
              "  'Price': 15800,\n",
              "  'Processor': 'Qualcomm Snapdragon 665',\n",
              "  'Quantity': 15,\n",
              "  'Ram-Rom': '4GB-128GB'},\n",
              " '5112377': {'Battery': '5000mAh',\n",
              "  'Camera': '12MP',\n",
              "  'Mobile Nme': 'Oppo A5',\n",
              "  'Price': 11400,\n",
              "  'Processor': '2.0 GHz Octa Core ',\n",
              "  'Quantity': 20,\n",
              "  'Ram-Rom': '6GB-128GB'},\n",
              " '5112378': {'Battery': '4000mAh',\n",
              "  'Camera': '48MP',\n",
              "  'Mobile Nme': 'Oppo Reno2 Z',\n",
              "  'Price': 25990,\n",
              "  'Processor': 'Media Tek helio P90',\n",
              "  'Quantity': 16,\n",
              "  'Ram-Rom': '8GB-256GB'},\n",
              " '5112379': {'Battery': '4500mAh',\n",
              "  'Camera': '64MP',\n",
              "  'Mobile Nme': 'Redmi Note 8 Pro',\n",
              "  'Price': 14999,\n",
              "  'Processor': 'Media Tek helio G90T',\n",
              "  'Quantity': 21,\n",
              "  'Ram-Rom': '6GB-64GB'},\n",
              " '5112380': {'Battery': '5000mAh',\n",
              "  'Camera': '12MP',\n",
              "  'Mobile Nme': 'Redmi 8',\n",
              "  'Price': 7999,\n",
              "  'Processor': 'Qualcomm Snapdragon 439',\n",
              "  'Quantity': 11,\n",
              "  'Ram-Rom': '4GB-64GB'},\n",
              " '5112381': {'Battery': '4030mAh',\n",
              "  'Camera': '48MP',\n",
              "  'Mobile Nme': 'Xiaomi Mi A3',\n",
              "  'Price': 11999,\n",
              "  'Processor': 'Qualcomm Snapdragon 665',\n",
              "  'Quantity': 14,\n",
              "  'Ram-Rom': '4GB-64GB'},\n",
              " '5112382': {'Battery': '4000mAh',\n",
              "  'Camera': '48MP',\n",
              "  'Mobile Nme': 'Redmi K20',\n",
              "  'Price': 19999,\n",
              "  'Processor': 'Qualcomm Snapdragon 855',\n",
              "  'Quantity': 22,\n",
              "  'Ram-Rom': '6GB-128GB'},\n",
              " '5112383': {'Battery': '4000mAh',\n",
              "  'Camera': '12MP',\n",
              "  'Mobile Nme': 'Redmi 7A',\n",
              "  'Price': 4999,\n",
              "  'Processor': 'Qualcomm Snapdragon 439',\n",
              "  'Quantity': 20,\n",
              "  'Ram-Rom': '2GB-16GB'},\n",
              " '5112384': {'Battery': '4085mAh',\n",
              "  'Camera': '48MP',\n",
              "  'Mobile Nme': 'OnePlus 7T Pro',\n",
              "  'Price': 53999,\n",
              "  'Processor': 'Qualcomm Snapdragon 855+',\n",
              "  'Quantity': 10,\n",
              "  'Ram-Rom': '8GB-256GB'},\n",
              " '5112385': {'Battery': '3800mAh',\n",
              "  'Camera': '48MP',\n",
              "  'Mobile Nme': 'OnePlus 7T',\n",
              "  'Price': 34575,\n",
              "  'Processor': 'Qualcomm Snapdragon 855+',\n",
              "  'Quantity': 17,\n",
              "  'Ram-Rom': '8GB-128GB'},\n",
              " '5112386': {'Battery': '3700mAh',\n",
              "  'Camera': '20MP',\n",
              "  'Mobile Nme': 'OnePlus 6T',\n",
              "  'Price': 37999,\n",
              "  'Processor': 'Qualcomm Snapdragon 845',\n",
              "  'Quantity': 19,\n",
              "  'Ram-Rom': '6GB-128GB'},\n",
              " '5112387': {'Battery': '3300mAh',\n",
              "  'Camera': '20MP',\n",
              "  'Mobile Nme': 'OnePlus 6',\n",
              "  'Price': 39999,\n",
              "  'Processor': 'Qualcomm Snapdragon 845',\n",
              "  'Quantity': 30,\n",
              "  'Ram-Rom': '6GB-64GB'},\n",
              " '5112388': {'Battery': '3300mAh',\n",
              "  'Camera': '20MP',\n",
              "  'Mobile Nme': 'OnePlus 5T',\n",
              "  'Price': 32999,\n",
              "  'Processor': 'Qualcomm Snapdragon 835',\n",
              "  'Quantity': 24,\n",
              "  'Ram-Rom': '6GB-64GB'},\n",
              " '5112389': {'Battery': '3180mAh',\n",
              "  'Camera': '19MP',\n",
              "  'Mobile Nme': 'Sony Xperia XZ2',\n",
              "  'Price': 74990,\n",
              "  'Processor': 'Qualcomm Snapdragon 845',\n",
              "  'Quantity': 18,\n",
              "  'Ram-Rom': '4GB-64GB'},\n",
              " '5112390': {'Battery': '3300mAh',\n",
              "  'Camera': '13MP',\n",
              "  'Mobile Nme': 'Sony Xperia L2',\n",
              "  'Price': 15990,\n",
              "  'Processor': 'MediaTek MT6737T',\n",
              "  'Quantity': 14,\n",
              "  'Ram-Rom': '3GB-32GB'},\n",
              " '5112391': {'Battery': '3580mAh',\n",
              "  'Camera': '23MP',\n",
              "  'Mobile Nme': 'Sony Xperia XA2 Ultra',\n",
              "  'Price': 29999,\n",
              "  'Processor': 'Qualcomm Snapdragon 630',\n",
              "  'Quantity': 11,\n",
              "  'Ram-Rom': '4GB-32GB'},\n",
              " '5112392': {'Battery': '2700mAh',\n",
              "  'Camera': '23MP',\n",
              "  'Mobile Nme': 'Sony Xperia XA1 Ultra',\n",
              "  'Price': 22990,\n",
              "  'Processor': 'MediaTek Helio P20',\n",
              "  'Quantity': 19,\n",
              "  'Ram-Rom': '4GB-64GB'},\n",
              " '5112393': {'Battery': '2900mAh',\n",
              "  'Camera': '19MP',\n",
              "  'Mobile Nme': 'Sony Xperia XZs',\n",
              "  'Price': 29990,\n",
              "  'Processor': 'Qualcomm Snapdragon 820',\n",
              "  'Quantity': 25,\n",
              "  'Ram-Rom': '4GB-32GB'},\n",
              " '5112394': {'Battery': '4000mAh',\n",
              "  'Camera': '48MP',\n",
              "  'Mobile Nme': 'Samsung Galaxy A51',\n",
              "  'Price': 23999,\n",
              "  'Processor': 'Qualcomm Snapdragon 765G',\n",
              "  'Quantity': 33,\n",
              "  'Ram-Rom': '6GB-128GB'},\n",
              " '5112395': {'Battery': '4500mAh',\n",
              "  'Camera': '48MP',\n",
              "  'Mobile Nme': 'Samsung Galaxy S10 Lite',\n",
              "  'Price': 39999,\n",
              "  'Processor': 'Qualcomm Snapdragon 855',\n",
              "  'Quantity': 44,\n",
              "  'Ram-Rom': '8GB-128GB'},\n",
              " '5112396': {'Battery': '4500mAh',\n",
              "  'Camera': '12MP',\n",
              "  'Mobile Nme': 'Samsung Galaxy Note10 Lite',\n",
              "  'Price': 38999,\n",
              "  'Processor': '2.7GH octa-core',\n",
              "  'Quantity': 18,\n",
              "  'Ram-Rom': '6GB-128GB'},\n",
              " '5112397': {'Battery': '4000mAh',\n",
              "  'Camera': '13MP',\n",
              "  'Mobile Nme': 'Samsung Galaxy A20s',\n",
              "  'Price': 10999,\n",
              "  'Processor': 'Qualcomm Snapdragon 450',\n",
              "  'Quantity': 17,\n",
              "  'Ram-Rom': '3GB-32GB'},\n",
              " '5112398': {'Battery': '4500mAh',\n",
              "  'Camera': '64MP',\n",
              "  'Mobile Nme': 'Samsung Galaxy A70s',\n",
              "  'Price': 25999,\n",
              "  'Processor': 'Qualcomm Snapdragon 675',\n",
              "  'Quantity': 16,\n",
              "  'Ram-Rom': '6GB-128GB'},\n",
              " '5112399': {'Battery': '3110mAh',\n",
              "  'Camera': '12MP',\n",
              "  'Mobile Nme': 'Apple iphone 11',\n",
              "  'Price': 63900,\n",
              "  'Processor': 'Apple A13 Bionic',\n",
              "  'Quantity': 19,\n",
              "  'Ram-Rom': '4GB-128GB'},\n",
              " '5112400': {'Battery': '3046mAh',\n",
              "  'Camera': '12MP',\n",
              "  'Mobile Nme': 'Apple iphone 11 Pro',\n",
              "  'Price': 99900,\n",
              "  'Processor': 'Apple A13 Bionic',\n",
              "  'Quantity': 12,\n",
              "  'Ram-Rom': '4GB-64GB'},\n",
              " '5112401': {'Battery': '3969mAh',\n",
              "  'Camera': '12MP',\n",
              "  'Mobile Nme': 'Apple iphone 11 Pro Max',\n",
              "  'Price': 106900,\n",
              "  'Processor': 'Apple A13 Bionic',\n",
              "  'Quantity': 13,\n",
              "  'Ram-Rom': '4GB-64GB'},\n",
              " '5112402': {'Battery': '2942mAh',\n",
              "  'Camera': '12MP',\n",
              "  'Mobile Nme': 'Apple iphone XR',\n",
              "  'Price': 47599,\n",
              "  'Processor': 'Apple A12 Bionic',\n",
              "  'Quantity': 15,\n",
              "  'Ram-Rom': '3GB-64GB'},\n",
              " '5112403': {'Battery': '3000mAh',\n",
              "  'Camera': '12MP',\n",
              "  'Mobile Nme': 'Apple iphone XS Max',\n",
              "  'Price': 69999,\n",
              "  'Processor': 'Apple A12 Bionic',\n",
              "  'Quantity': 18,\n",
              "  'Ram-Rom': '4GB-64GB'},\n",
              " '5112404': {'Battery': '2300mAh',\n",
              "  'Camera': '20MP',\n",
              "  'Mobile Nme': 'Lava',\n",
              "  'Price': 5333,\n",
              "  'Processor': 'Snapdragon',\n",
              "  'Quantity': 20,\n",
              "  'Ram-Rom': '4GB-64GB'},\n",
              " '5112405': {'Battery': '4800mAh',\n",
              "  'Camera': '48MP',\n",
              "  'Mobile Nme': 'Vivo',\n",
              "  'Price': 14000,\n",
              "  'Processor': 'Media Tek',\n",
              "  'Quantity': 19,\n",
              "  'Ram-Rom': '6GB-128GB'},\n",
              " '5113406': {'Battery': '5000mAh',\n",
              "  'Camera': '45MP',\n",
              "  'Mobile Nme': 'Redmi ',\n",
              "  'Price': 7999,\n",
              "  'Processor': 'Snapdragon 655+',\n",
              "  'Quantity': 18,\n",
              "  'Ram-Rom': '4GB-64GB'}}"
            ]
          },
          "metadata": {},
          "execution_count": 18
        }
      ]
    },
    {
      "cell_type": "markdown",
      "metadata": {
        "id": "k8nacjC3a7Q6"
      },
      "source": [
        "Purchase"
      ]
    },
    {
      "cell_type": "code",
      "metadata": {
        "colab": {
          "base_uri": "https://localhost:8080/"
        },
        "id": "LSqJg-sStoqX",
        "outputId": "1568464b-ed70-4e54-e891-fbed52e32117"
      },
      "source": [
        "ui_prod = str(input(\"enter the pid: \"))\n",
        "ui_quat = int(input(\"enter the quantity: \"))\n",
        "\n",
        "#USER DETAILS\n",
        "user_name = str(input(\"enter the Buyers name: \"))\n",
        "ui_mobile_no = int(input(\"enter the mobile number: \"))\n",
        "ui_adress = str(input(\"enter the adress of buyer: \"))\n",
        "print(\"*************BILLING RCIPT*************\")\n",
        "print(\"product: \",products[ui_prod]['Mobile Nme'])\n",
        "print(\"price: \",products[ui_prod]['Price'])\n",
        "print(\"Billing Amount: \",products[ui_prod]['Price'] * ui_quat)\n",
        "print(\"Custumer Name: \",user_name)\n",
        "print(\"User Mobile no: \",ui_mobile_no)\n",
        "print(\"Shipping adress: \",ui_adress)\n",
        "print(\"******************************************\")\n",
        "products[ui_prod]['Quantity'] = products[ui_prod]['Quantity'] - ui_quat"
      ],
      "execution_count": 24,
      "outputs": [
        {
          "output_type": "stream",
          "name": "stdout",
          "text": [
            "enter the pid: 5112401\n",
            "enter the quantity: 1\n",
            "enter the Buyers name: Dishank Pal\n",
            "enter the mobile number: 9128647901\n",
            "enter the adress of buyer: 245/104 Kalanpur Kanpur\n",
            "*************BILLING RCIPT*************\n",
            "product:  Apple iphone 11 Pro Max\n",
            "price:  106900\n",
            "Billing Amount:  106900\n",
            "Custumer Name:  Dishank Pal\n",
            "User Mobile no:  9128647901\n",
            "Shipping adress:  245/104 Kalanpur Kanpur\n",
            "******************************************\n"
          ]
        }
      ]
    },
    {
      "cell_type": "markdown",
      "metadata": {
        "id": "X7NsaBbCyAb5"
      },
      "source": [
        "Update Inventory"
      ]
    },
    {
      "cell_type": "code",
      "metadata": {
        "id": "MLU4TB8ix7sW"
      },
      "source": [
        "js = json.dumps(products)\n",
        "\n",
        "fd = open(\"products.json\",\"w\")\n",
        "fd.write(js)\n",
        "fd.close()"
      ],
      "execution_count": 25,
      "outputs": []
    },
    {
      "cell_type": "markdown",
      "metadata": {
        "id": "n84WTRDG06gS"
      },
      "source": [
        "Read The Data"
      ]
    },
    {
      "cell_type": "code",
      "metadata": {
        "id": "Buu0g5Ggyf_0"
      },
      "source": [
        "fd = open(\"products.json\",\"r\")\n",
        "r = fd.read()\n",
        "fd.close()"
      ],
      "execution_count": 26,
      "outputs": []
    },
    {
      "cell_type": "code",
      "metadata": {
        "colab": {
          "base_uri": "https://localhost:8080/",
          "height": 171
        },
        "id": "jFEezhr31Q20",
        "outputId": "4c036316-062d-41eb-dc22-e3d8fb88681b"
      },
      "source": [
        "r"
      ],
      "execution_count": 27,
      "outputs": [
        {
          "output_type": "execute_result",
          "data": {
            "application/vnd.google.colaboratory.intrinsic+json": {
              "type": "string"
            },
            "text/plain": [
              "'{\"5112374\": {\"Mobile Nme\": \"Oppo F15\", \"Price\": 19990, \"Ram-Rom\": \"8GB-128GB\", \"Camera\": \"48MP\", \"Battery\": \"4000mAh\", \"Quantity\": 10, \"Processor\": \"MediaTek Helio P70\"}, \"5112375\": {\"Mobile Nme\": \"Oppo Reno2 F\", \"Price\": 23000, \"Ram-Rom\": \"8GB-128GB\", \"Camera\": \"48MP\", \"Battery\": \"4000mAh\", \"Quantity\": 11, \"Processor\": \"2.0GHz Helio P70 octa core\"}, \"5112376\": {\"Mobile Nme\": \"Oppo A9\", \"Price\": 15800, \"Ram-Rom\": \"4GB-128GB\", \"Camera\": \"48MP\", \"Battery\": \"5000mAh\", \"Quantity\": 15, \"Processor\": \"Qualcomm Snapdragon 665\"}, \"5112377\": {\"Mobile Nme\": \"Oppo A5\", \"Price\": 11400, \"Ram-Rom\": \"6GB-128GB\", \"Camera\": \"12MP\", \"Battery\": \"5000mAh\", \"Quantity\": 20, \"Processor\": \"2.0 GHz Octa Core \"}, \"5112378\": {\"Mobile Nme\": \"Oppo Reno2 Z\", \"Price\": 25990, \"Ram-Rom\": \"8GB-256GB\", \"Camera\": \"48MP\", \"Battery\": \"4000mAh\", \"Quantity\": 16, \"Processor\": \"Media Tek helio P90\"}, \"5112379\": {\"Mobile Nme\": \"Redmi Note 8 Pro\", \"Price\": 14999, \"Ram-Rom\": \"6GB-64GB\", \"Camera\": \"64MP\", \"Battery\": \"4500mAh\", \"Quantity\": 19, \"Processor\": \"Media Tek helio G90T\"}, \"5112380\": {\"Mobile Nme\": \"Redmi 8\", \"Price\": 7999, \"Ram-Rom\": \"4GB-64GB\", \"Camera\": \"12MP\", \"Battery\": \"5000mAh\", \"Quantity\": 5, \"Processor\": \"Qualcomm Snapdragon 439\"}, \"5112381\": {\"Mobile Nme\": \"Xiaomi Mi A3\", \"Price\": 11999, \"Ram-Rom\": \"4GB-64GB\", \"Camera\": \"48MP\", \"Battery\": \"4030mAh\", \"Quantity\": 14, \"Processor\": \"Qualcomm Snapdragon 665\"}, \"5112382\": {\"Mobile Nme\": \"Redmi K20\", \"Price\": 19999, \"Ram-Rom\": \"6GB-128GB\", \"Camera\": \"48MP\", \"Battery\": \"4000mAh\", \"Quantity\": 22, \"Processor\": \"Qualcomm Snapdragon 855\"}, \"5112383\": {\"Mobile Nme\": \"Redmi 7A\", \"Price\": 4999, \"Ram-Rom\": \"2GB-16GB\", \"Camera\": \"12MP\", \"Battery\": \"4000mAh\", \"Quantity\": 20, \"Processor\": \"Qualcomm Snapdragon 439\"}, \"5112384\": {\"Mobile Nme\": \"OnePlus 7T Pro\", \"Price\": 53999, \"Ram-Rom\": \"8GB-256GB\", \"Camera\": \"48MP\", \"Battery\": \"4085mAh\", \"Quantity\": 10, \"Processor\": \"Qualcomm Snapdragon 855+\"}, \"5112385\": {\"Mobile Nme\": \"OnePlus 7T\", \"Price\": 34575, \"Ram-Rom\": \"8GB-128GB\", \"Camera\": \"48MP\", \"Battery\": \"3800mAh\", \"Quantity\": 14, \"Processor\": \"Qualcomm Snapdragon 855+\"}, \"5112386\": {\"Mobile Nme\": \"OnePlus 6T\", \"Price\": 37999, \"Ram-Rom\": \"6GB-128GB\", \"Camera\": \"20MP\", \"Battery\": \"3700mAh\", \"Quantity\": 19, \"Processor\": \"Qualcomm Snapdragon 845\"}, \"5112387\": {\"Mobile Nme\": \"OnePlus 6\", \"Price\": 39999, \"Ram-Rom\": \"6GB-64GB\", \"Camera\": \"20MP\", \"Battery\": \"3300mAh\", \"Quantity\": 30, \"Processor\": \"Qualcomm Snapdragon 845\"}, \"5112388\": {\"Mobile Nme\": \"OnePlus 5T\", \"Price\": 32999, \"Ram-Rom\": \"6GB-64GB\", \"Camera\": \"20MP\", \"Battery\": \"3300mAh\", \"Quantity\": 24, \"Processor\": \"Qualcomm Snapdragon 835\"}, \"5112389\": {\"Mobile Nme\": \"Sony Xperia XZ2\", \"Price\": 74990, \"Ram-Rom\": \"4GB-64GB\", \"Camera\": \"19MP\", \"Battery\": \"3180mAh\", \"Quantity\": 18, \"Processor\": \"Qualcomm Snapdragon 845\"}, \"5112390\": {\"Mobile Nme\": \"Sony Xperia L2\", \"Price\": 15990, \"Ram-Rom\": \"3GB-32GB\", \"Camera\": \"13MP\", \"Battery\": \"3300mAh\", \"Quantity\": 14, \"Processor\": \"MediaTek MT6737T\"}, \"5112391\": {\"Mobile Nme\": \"Sony Xperia XA2 Ultra\", \"Price\": 29999, \"Ram-Rom\": \"4GB-32GB\", \"Camera\": \"23MP\", \"Battery\": \"3580mAh\", \"Quantity\": 11, \"Processor\": \"Qualcomm Snapdragon 630\"}, \"5112392\": {\"Mobile Nme\": \"Sony Xperia XA1 Ultra\", \"Price\": 22990, \"Ram-Rom\": \"4GB-64GB\", \"Camera\": \"23MP\", \"Battery\": \"2700mAh\", \"Quantity\": 19, \"Processor\": \"MediaTek Helio P20\"}, \"5112393\": {\"Mobile Nme\": \"Sony Xperia XZs\", \"Price\": 29990, \"Ram-Rom\": \"4GB-32GB\", \"Camera\": \"19MP\", \"Battery\": \"2900mAh\", \"Quantity\": 25, \"Processor\": \"Qualcomm Snapdragon 820\"}, \"5112394\": {\"Mobile Nme\": \"Samsung Galaxy A51\", \"Price\": 23999, \"Ram-Rom\": \"6GB-128GB\", \"Camera\": \"48MP\", \"Battery\": \"4000mAh\", \"Quantity\": 33, \"Processor\": \"Qualcomm Snapdragon 765G\"}, \"5112395\": {\"Mobile Nme\": \"Samsung Galaxy S10 Lite\", \"Price\": 39999, \"Ram-Rom\": \"8GB-128GB\", \"Camera\": \"48MP\", \"Battery\": \"4500mAh\", \"Quantity\": 44, \"Processor\": \"Qualcomm Snapdragon 855\"}, \"5112396\": {\"Mobile Nme\": \"Samsung Galaxy Note10 Lite\", \"Price\": 38999, \"Ram-Rom\": \"6GB-128GB\", \"Camera\": \"12MP\", \"Battery\": \"4500mAh\", \"Quantity\": 18, \"Processor\": \"2.7GH octa-core\"}, \"5112397\": {\"Mobile Nme\": \"Samsung Galaxy A20s\", \"Price\": 10999, \"Ram-Rom\": \"3GB-32GB\", \"Camera\": \"13MP\", \"Battery\": \"4000mAh\", \"Quantity\": 17, \"Processor\": \"Qualcomm Snapdragon 450\"}, \"5112398\": {\"Mobile Nme\": \"Samsung Galaxy A70s\", \"Price\": 25999, \"Ram-Rom\": \"6GB-128GB\", \"Camera\": \"64MP\", \"Battery\": \"4500mAh\", \"Quantity\": 16, \"Processor\": \"Qualcomm Snapdragon 675\"}, \"5112399\": {\"Mobile Nme\": \"Apple iphone 11\", \"Price\": 63900, \"Ram-Rom\": \"4GB-128GB\", \"Camera\": \"12MP\", \"Battery\": \"3110mAh\", \"Quantity\": 19, \"Processor\": \"Apple A13 Bionic\"}, \"5112400\": {\"Mobile Nme\": \"Apple iphone 11 Pro\", \"Price\": 99900, \"Ram-Rom\": \"4GB-64GB\", \"Camera\": \"12MP\", \"Battery\": \"3046mAh\", \"Quantity\": 12, \"Processor\": \"Apple A13 Bionic\"}, \"5112401\": {\"Mobile Nme\": \"Apple iphone 11 Pro Max\", \"Price\": 106900, \"Ram-Rom\": \"4GB-64GB\", \"Camera\": \"12MP\", \"Battery\": \"3969mAh\", \"Quantity\": 12, \"Processor\": \"Apple A13 Bionic\"}, \"5112402\": {\"Mobile Nme\": \"Apple iphone XR\", \"Price\": 47599, \"Ram-Rom\": \"3GB-64GB\", \"Camera\": \"12MP\", \"Battery\": \"2942mAh\", \"Quantity\": 15, \"Processor\": \"Apple A12 Bionic\"}, \"5112403\": {\"Mobile Nme\": \"Apple iphone XS Max\", \"Price\": 69999, \"Ram-Rom\": \"4GB-64GB\", \"Camera\": \"12MP\", \"Battery\": \"3000mAh\", \"Quantity\": 18, \"Processor\": \"Apple A12 Bionic\"}, \"5112404\": {\"Mobile Nme\": \"Lava\", \"Price\": 5333, \"Ram-Rom\": \"4GB-64GB\", \"Camera\": \"20MP\", \"Battery\": \"2300mAh\", \"Quantity\": 20, \"Processor\": \"Snapdragon\"}, \"5112405\": {\"Mobile Nme\": \"Vivo\", \"Price\": 14000, \"Ram-Rom\": \"6GB-128GB\", \"Camera\": \"48MP\", \"Battery\": \"4800mAh\", \"Quantity\": 19, \"Processor\": \"Media Tek\"}, \"5113406\": {\"Mobile Nme\": \"Redmi \", \"Price\": 7999, \"Ram-Rom\": \"4GB-64GB\", \"Camera\": \"45MP\", \"Battery\": \"5000mAh\", \"Quantity\": 18, \"Processor\": \"Snapdragon 655+\"}}'"
            ]
          },
          "metadata": {},
          "execution_count": 27
        }
      ]
    },
    {
      "cell_type": "markdown",
      "metadata": {
        "id": "0BWik6A91-QB"
      },
      "source": [
        "Sale Products"
      ]
    },
    {
      "cell_type": "code",
      "metadata": {
        "id": "0EhL-tFO4rKe"
      },
      "source": [
        "sales = {1 : {'prod' : ui_prod, 'qn' : ui_quat, 'amount' : products[ui_prod]['Price'] * ui_quat, 'User adress' : ui_adress, 'user mobile no' : ui_mobile_no, 'user name' : user_name},\n",
        "         2 : {'prod' : ui_prod, 'qn' : ui_quat, 'amount' : products[ui_prod]['Price'] * ui_quat, 'User adress' : ui_adress, 'user mobile no' : ui_mobile_no, 'user name' : user_name},\n",
        "         3 : {'prod' : ui_prod, 'qn' : ui_quat, 'amount' : products[ui_prod]['Price'] * ui_quat, 'User adress' : ui_adress, 'user mobile no' : ui_mobile_no, 'user name' : user_name}}"
      ],
      "execution_count": 29,
      "outputs": []
    },
    {
      "cell_type": "code",
      "metadata": {
        "colab": {
          "base_uri": "https://localhost:8080/",
          "height": 86
        },
        "id": "X5IEwlsY5gaj",
        "outputId": "a33ea203-819f-44c0-e8fb-ecf3fce1ec45"
      },
      "source": [
        "json.dumps(sales)"
      ],
      "execution_count": 30,
      "outputs": [
        {
          "output_type": "execute_result",
          "data": {
            "application/vnd.google.colaboratory.intrinsic+json": {
              "type": "string"
            },
            "text/plain": [
              "'{\"1\": {\"prod\": \"5112401\", \"qn\": 1, \"amount\": 106900, \"User adress\": \"245/104 Kalanpur Kanpur\", \"user mobile no\": 9128647901, \"user name\": \"Dishank Pal\"}, \"2\": {\"prod\": \"5112401\", \"qn\": 1, \"amount\": 106900, \"User adress\": \"245/104 Kalanpur Kanpur\", \"user mobile no\": 9128647901, \"user name\": \"Dishank Pal\"}, \"3\": {\"prod\": \"5112401\", \"qn\": 1, \"amount\": 106900, \"User adress\": \"245/104 Kalanpur Kanpur\", \"user mobile no\": 9128647901, \"user name\": \"Dishank Pal\"}}'"
            ]
          },
          "metadata": {},
          "execution_count": 30
        }
      ]
    },
    {
      "cell_type": "code",
      "metadata": {
        "id": "0-f5JgKU56ZZ"
      },
      "source": [
        "fd = open(\"products.json\",\"r\")\n",
        "r = fd.read()\n",
        "fd.close()"
      ],
      "execution_count": 31,
      "outputs": []
    },
    {
      "cell_type": "code",
      "metadata": {
        "id": "eFGzfmrt7IF6"
      },
      "source": [
        "sales[(len(sales) + 1)] = {'prod' : ui_prod, 'qn' : ui_quat, 'amount' : products[ui_prod]['Price'] * ui_quat, 'User adress' : ui_adress, 'user mobile no' : ui_mobile_no}"
      ],
      "execution_count": 32,
      "outputs": []
    },
    {
      "cell_type": "code",
      "metadata": {
        "colab": {
          "base_uri": "https://localhost:8080/"
        },
        "id": "Zkqw8Dtd8chA",
        "outputId": "6231cff1-29dc-418f-daa4-e322bbe67304"
      },
      "source": [
        "sales"
      ],
      "execution_count": 33,
      "outputs": [
        {
          "output_type": "execute_result",
          "data": {
            "text/plain": [
              "{1: {'User adress': '245/104 Kalanpur Kanpur',\n",
              "  'amount': 106900,\n",
              "  'prod': '5112401',\n",
              "  'qn': 1,\n",
              "  'user mobile no': 9128647901,\n",
              "  'user name': 'Dishank Pal'},\n",
              " 2: {'User adress': '245/104 Kalanpur Kanpur',\n",
              "  'amount': 106900,\n",
              "  'prod': '5112401',\n",
              "  'qn': 1,\n",
              "  'user mobile no': 9128647901,\n",
              "  'user name': 'Dishank Pal'},\n",
              " 3: {'User adress': '245/104 Kalanpur Kanpur',\n",
              "  'amount': 106900,\n",
              "  'prod': '5112401',\n",
              "  'qn': 1,\n",
              "  'user mobile no': 9128647901,\n",
              "  'user name': 'Dishank Pal'},\n",
              " 4: {'User adress': '245/104 Kalanpur Kanpur',\n",
              "  'amount': 106900,\n",
              "  'prod': '5112401',\n",
              "  'qn': 1,\n",
              "  'user mobile no': 9128647901}}"
            ]
          },
          "metadata": {},
          "execution_count": 33
        }
      ]
    },
    {
      "cell_type": "code",
      "metadata": {
        "id": "AOmRdLov8hFa"
      },
      "source": [
        "sale = json.dumps(sales)"
      ],
      "execution_count": 34,
      "outputs": []
    },
    {
      "cell_type": "code",
      "metadata": {
        "id": "EyBL_hDp9IxA"
      },
      "source": [
        "fd = open(\"sales.json\",'w')\n",
        "fd.write(sale)\n",
        "fd.close()"
      ],
      "execution_count": 35,
      "outputs": []
    },
    {
      "cell_type": "code",
      "metadata": {
        "id": "vmuhcC5LYKP4"
      },
      "source": [
        "fd = open(\"sales.json\",'r')\n",
        "r = fd.read()\n",
        "fd.close()"
      ],
      "execution_count": 36,
      "outputs": []
    },
    {
      "cell_type": "code",
      "metadata": {
        "colab": {
          "base_uri": "https://localhost:8080/",
          "height": 86
        },
        "id": "44R4w2OiAEYz",
        "outputId": "dd072b8c-8276-4a40-ce69-1395c6484027"
      },
      "source": [
        "r"
      ],
      "execution_count": 37,
      "outputs": [
        {
          "output_type": "execute_result",
          "data": {
            "application/vnd.google.colaboratory.intrinsic+json": {
              "type": "string"
            },
            "text/plain": [
              "'{\"1\": {\"prod\": \"5112401\", \"qn\": 1, \"amount\": 106900, \"User adress\": \"245/104 Kalanpur Kanpur\", \"user mobile no\": 9128647901, \"user name\": \"Dishank Pal\"}, \"2\": {\"prod\": \"5112401\", \"qn\": 1, \"amount\": 106900, \"User adress\": \"245/104 Kalanpur Kanpur\", \"user mobile no\": 9128647901, \"user name\": \"Dishank Pal\"}, \"3\": {\"prod\": \"5112401\", \"qn\": 1, \"amount\": 106900, \"User adress\": \"245/104 Kalanpur Kanpur\", \"user mobile no\": 9128647901, \"user name\": \"Dishank Pal\"}, \"4\": {\"prod\": \"5112401\", \"qn\": 1, \"amount\": 106900, \"User adress\": \"245/104 Kalanpur Kanpur\", \"user mobile no\": 9128647901}}'"
            ]
          },
          "metadata": {},
          "execution_count": 37
        }
      ]
    },
    {
      "cell_type": "code",
      "metadata": {
        "id": "VxyWyiCB6vud"
      },
      "source": [
        ""
      ],
      "execution_count": null,
      "outputs": []
    }
  ]
}